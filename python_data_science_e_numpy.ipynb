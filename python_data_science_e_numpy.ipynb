{
  "nbformat": 4,
  "nbformat_minor": 0,
  "metadata": {
    "colab": {
      "name": "python-data-science-e-numpy.ipynb",
      "provenance": [],
      "collapsed_sections": [],
      "authorship_tag": "ABX9TyNuLTPoxyQE7MTJSxatFGT1",
      "include_colab_link": true
    },
    "kernelspec": {
      "name": "python3",
      "display_name": "Python 3"
    },
    "language_info": {
      "name": "python"
    }
  },
  "cells": [
    {
      "cell_type": "markdown",
      "metadata": {
        "id": "view-in-github",
        "colab_type": "text"
      },
      "source": [
        "<a href=\"https://colab.research.google.com/github/gabrielcn/Data-Science/blob/main/python_data_science_e_numpy.ipynb\" target=\"_parent\"><img src=\"https://colab.research.google.com/assets/colab-badge.svg\" alt=\"Open In Colab\"/></a>"
      ]
    },
    {
      "cell_type": "markdown",
      "source": [
        "**Verificando a versão do python**"
      ],
      "metadata": {
        "id": "rVPzgK0GS0is"
      }
    },
    {
      "cell_type": "code",
      "source": [
        "!python -V"
      ],
      "metadata": {
        "colab": {
          "base_uri": "https://localhost:8080/"
        },
        "id": "UTzoqgKGSvpR",
        "outputId": "3855ce0f-a4d6-439f-dbe3-58f46e978898"
      },
      "execution_count": null,
      "outputs": [
        {
          "output_type": "stream",
          "name": "stdout",
          "text": [
            "Python 3.7.13\n"
          ]
        }
      ]
    },
    {
      "cell_type": "markdown",
      "source": [
        "**1.3 Trabalhando com arrays numpy**"
      ],
      "metadata": {
        "id": "rtdNapqt2Gjh"
      }
    },
    {
      "cell_type": "code",
      "source": [
        "import numpy as np #Importar a biblioteca numpy"
      ],
      "metadata": {
        "id": "nXD6SSf6S9zS"
      },
      "execution_count": null,
      "outputs": []
    },
    {
      "cell_type": "code",
      "source": [
        "km = np.loadtxt('carros-km.txt') #carrega o arquivo txt dentro de um array numpy"
      ],
      "metadata": {
        "id": "g1wV6xFp3Bew"
      },
      "execution_count": null,
      "outputs": []
    },
    {
      "cell_type": "code",
      "source": [
        "km"
      ],
      "metadata": {
        "id": "SMNgyLCF4Jph"
      },
      "execution_count": null,
      "outputs": []
    },
    {
      "cell_type": "code",
      "source": [
        "anos = np.loadtxt('carros-anos.txt', dtype = int) #carrega o arquivo txt dentro de um array numpy e o dtype = int define que a variável \"anos\" é do tipo inteiro"
      ],
      "metadata": {
        "id": "SfBxxdL34ZFQ"
      },
      "execution_count": null,
      "outputs": []
    },
    {
      "cell_type": "code",
      "source": [
        "anos"
      ],
      "metadata": {
        "id": "YrOcP_T44gsx"
      },
      "execution_count": null,
      "outputs": []
    },
    {
      "cell_type": "markdown",
      "source": [
        "**Obtendo a quilometragem média por ano**"
      ],
      "metadata": {
        "id": "9mvoP7Fg5Bjp"
      }
    },
    {
      "cell_type": "code",
      "source": [
        "km_media = km / (2022 - anos)"
      ],
      "metadata": {
        "id": "euCg8CHy40qF"
      },
      "execution_count": null,
      "outputs": []
    },
    {
      "cell_type": "code",
      "source": [
        "km_media"
      ],
      "metadata": {
        "id": "KDnKaYcD5ZhS"
      },
      "execution_count": null,
      "outputs": []
    },
    {
      "cell_type": "code",
      "source": [
        "type(km_media) #Verifica o tipo da variável, no caso a variável é do tipo numpy.ndarray"
      ],
      "metadata": {
        "colab": {
          "base_uri": "https://localhost:8080/"
        },
        "id": "LoSwncB85lNY",
        "outputId": "4f35db39-20ae-4276-c0db-5ac10b34097b"
      },
      "execution_count": null,
      "outputs": [
        {
          "output_type": "execute_result",
          "data": {
            "text/plain": [
              "numpy.ndarray"
            ]
          },
          "metadata": {},
          "execution_count": 16
        }
      ]
    },
    {
      "cell_type": "markdown",
      "source": [
        "**2. CARACTERÍSICAS BÁSICAS DA LINGUAGEM**"
      ],
      "metadata": {
        "id": "BNs3ADS56l9E"
      }
    },
    {
      "cell_type": "markdown",
      "source": [
        "**2.1 Operações matemáticas**\n",
        "    \n",
        "    Operadores aritméticos: +, -, *, /, **, %, //"
      ],
      "metadata": {
        "id": "bT7Lgt9b6zHY"
      }
    },
    {
      "cell_type": "markdown",
      "source": [
        "**Adição (+)**"
      ],
      "metadata": {
        "id": "QUy5KuFL7M3y"
      }
    },
    {
      "cell_type": "code",
      "source": [
        "2 + 2"
      ],
      "metadata": {
        "colab": {
          "base_uri": "https://localhost:8080/"
        },
        "id": "kRHOVMru54rl",
        "outputId": "7d0fe618-702a-4c90-8f94-934d54150b70"
      },
      "execution_count": null,
      "outputs": [
        {
          "output_type": "execute_result",
          "data": {
            "text/plain": [
              "4"
            ]
          },
          "metadata": {},
          "execution_count": 17
        }
      ]
    },
    {
      "cell_type": "markdown",
      "source": [
        "**Subtração (-)**"
      ],
      "metadata": {
        "id": "HVv6pHsJ8Rto"
      }
    },
    {
      "cell_type": "code",
      "source": [
        "2 - 2"
      ],
      "metadata": {
        "colab": {
          "base_uri": "https://localhost:8080/"
        },
        "id": "fBecsdxh8Epo",
        "outputId": "e6d9e1eb-8e01-4975-defa-6bdadd91ae1b"
      },
      "execution_count": null,
      "outputs": [
        {
          "output_type": "execute_result",
          "data": {
            "text/plain": [
              "0"
            ]
          },
          "metadata": {},
          "execution_count": 18
        }
      ]
    },
    {
      "cell_type": "markdown",
      "source": [
        "**Multiplicação (*)**"
      ],
      "metadata": {
        "id": "iKtdDKo58cja"
      }
    },
    {
      "cell_type": "code",
      "source": [
        "2 * 2"
      ],
      "metadata": {
        "colab": {
          "base_uri": "https://localhost:8080/"
        },
        "id": "cUDQniGj8jE4",
        "outputId": "6b5997ec-b91d-4a50-c6f7-fbd5818807db"
      },
      "execution_count": null,
      "outputs": [
        {
          "output_type": "execute_result",
          "data": {
            "text/plain": [
              "4"
            ]
          },
          "metadata": {},
          "execution_count": 19
        }
      ]
    },
    {
      "cell_type": "markdown",
      "source": [
        "**Divisão (/) e (//)**\n",
        "\n",
        "A operação divisão sempre retorna um número de ponto flutuante"
      ],
      "metadata": {
        "id": "b91ANW4281hK"
      }
    },
    {
      "cell_type": "code",
      "source": [
        "10 / 3"
      ],
      "metadata": {
        "colab": {
          "base_uri": "https://localhost:8080/"
        },
        "id": "w-VuZpAQ8kQA",
        "outputId": "6e5d93bf-9c7f-411b-a36f-548697e72fea"
      },
      "execution_count": null,
      "outputs": [
        {
          "output_type": "execute_result",
          "data": {
            "text/plain": [
              "3.3333333333333335"
            ]
          },
          "metadata": {},
          "execution_count": 20
        }
      ]
    },
    {
      "cell_type": "code",
      "source": [
        "10 // 3 #Retorna somente a parte inteira da divisão"
      ],
      "metadata": {
        "colab": {
          "base_uri": "https://localhost:8080/"
        },
        "id": "fx06xtaq9Ghk",
        "outputId": "af62e3ea-1566-4e3e-cfba-9224da81965f"
      },
      "execution_count": null,
      "outputs": [
        {
          "output_type": "execute_result",
          "data": {
            "text/plain": [
              "3"
            ]
          },
          "metadata": {},
          "execution_count": 22
        }
      ]
    },
    {
      "cell_type": "markdown",
      "source": [
        "**Exponenciação (****)"
      ],
      "metadata": {
        "id": "2xRgFl8W9UYL"
      }
    },
    {
      "cell_type": "code",
      "source": [
        "2 ** 3"
      ],
      "metadata": {
        "colab": {
          "base_uri": "https://localhost:8080/"
        },
        "id": "O-tx5n7v9Jwp",
        "outputId": "7e26aeba-17e7-4114-810c-ff5c5b92382c"
      },
      "execution_count": null,
      "outputs": [
        {
          "output_type": "execute_result",
          "data": {
            "text/plain": [
              "8"
            ]
          },
          "metadata": {},
          "execution_count": 24
        }
      ]
    },
    {
      "cell_type": "markdown",
      "source": [
        "**Resto da divisão (%)**"
      ],
      "metadata": {
        "id": "Uu1kXc3D9tu4"
      }
    },
    {
      "cell_type": "code",
      "source": [
        "10 % 3"
      ],
      "metadata": {
        "colab": {
          "base_uri": "https://localhost:8080/"
        },
        "id": "OvdM6mc89oHw",
        "outputId": "76d61f96-97cf-4820-fc24-4c5d0910663f"
      },
      "execution_count": null,
      "outputs": [
        {
          "output_type": "execute_result",
          "data": {
            "text/plain": [
              "1"
            ]
          },
          "metadata": {},
          "execution_count": 28
        }
      ]
    },
    {
      "cell_type": "markdown",
      "source": [
        "**Expressões matemáticas**"
      ],
      "metadata": {
        "id": "aVI-h25p-Hvl"
      }
    },
    {
      "cell_type": "code",
      "source": [
        "5 * 2 + 3 * 2"
      ],
      "metadata": {
        "colab": {
          "base_uri": "https://localhost:8080/"
        },
        "id": "gdRJwI3D-M55",
        "outputId": "c148552b-a8d6-4ebb-9405-733b106aeeb9"
      },
      "execution_count": null,
      "outputs": [
        {
          "output_type": "execute_result",
          "data": {
            "text/plain": [
              "16"
            ]
          },
          "metadata": {},
          "execution_count": 30
        }
      ]
    },
    {
      "cell_type": "code",
      "source": [
        "(5 * 2) + (3 * 2)"
      ],
      "metadata": {
        "colab": {
          "base_uri": "https://localhost:8080/"
        },
        "id": "QhzVN0DI-O83",
        "outputId": "b57e890d-4d67-430d-ccaf-79c189cffb69"
      },
      "execution_count": null,
      "outputs": [
        {
          "output_type": "execute_result",
          "data": {
            "text/plain": [
              "16"
            ]
          },
          "metadata": {},
          "execution_count": 31
        }
      ]
    },
    {
      "cell_type": "code",
      "source": [
        "5 * (2 + 3) * 2"
      ],
      "metadata": {
        "colab": {
          "base_uri": "https://localhost:8080/"
        },
        "id": "CQ4TAQWU-bBP",
        "outputId": "0e19c706-d269-4ede-9d74-922a511ee8f1"
      },
      "execution_count": null,
      "outputs": [
        {
          "output_type": "execute_result",
          "data": {
            "text/plain": [
              "50"
            ]
          },
          "metadata": {},
          "execution_count": 32
        }
      ]
    },
    {
      "cell_type": "markdown",
      "source": [
        "**A variável**\n",
        "\n",
        "No modo interativo, o último resultado impresso é atribuído a variável _"
      ],
      "metadata": {
        "id": "b0ZCLzOz-uYi"
      }
    },
    {
      "cell_type": "code",
      "source": [
        "5 * 2"
      ],
      "metadata": {
        "colab": {
          "base_uri": "https://localhost:8080/"
        },
        "id": "WieY_B2J-gfY",
        "outputId": "b9cca50c-ec9f-4313-a143-e96329a74e11"
      },
      "execution_count": null,
      "outputs": [
        {
          "output_type": "execute_result",
          "data": {
            "text/plain": [
              "10"
            ]
          },
          "metadata": {},
          "execution_count": 51
        }
      ]
    },
    {
      "cell_type": "code",
      "source": [
        "_ + 3 * 2"
      ],
      "metadata": {
        "colab": {
          "base_uri": "https://localhost:8080/"
        },
        "id": "n1hqUiNR_LSZ",
        "outputId": "45940307-34df-4b82-b6ed-4f8b91e40368"
      },
      "execution_count": null,
      "outputs": [
        {
          "output_type": "execute_result",
          "data": {
            "text/plain": [
              "16"
            ]
          },
          "metadata": {},
          "execution_count": 52
        }
      ]
    },
    {
      "cell_type": "code",
      "source": [
        "_ / 2"
      ],
      "metadata": {
        "colab": {
          "base_uri": "https://localhost:8080/"
        },
        "id": "X_zbKPWh_Wo1",
        "outputId": "6170ba26-259d-4a4b-a98e-f19a14e9afaf"
      },
      "execution_count": null,
      "outputs": [
        {
          "output_type": "execute_result",
          "data": {
            "text/plain": [
              "8.0"
            ]
          },
          "metadata": {},
          "execution_count": 53
        }
      ]
    },
    {
      "cell_type": "markdown",
      "source": [
        "**2.2 Variáveis**"
      ],
      "metadata": {
        "id": "lWIXPnlhA7zH"
      }
    },
    {
      "cell_type": "markdown",
      "source": [
        "**Nomes de variáveis**"
      ],
      "metadata": {
        "id": "nbP13pOfBHvs"
      }
    },
    {
      "cell_type": "markdown",
      "source": [
        ""
      ],
      "metadata": {
        "id": "5kq95GYNEk0S"
      }
    },
    {
      "cell_type": "markdown",
      "source": [
        "° Nomes de varáveis podem começar com letras (a - z, A - Z) ou o caractere underscore (_):\n",
        "\n",
        "Altura\n",
        "\n",
        "_peso\n",
        "\n",
        "° O restante de nome pode conter letras, números e o caractere \"_\":\n",
        "\n",
        "nome_da_variavel\n",
        "\n",
        "_valor\n",
        "\n",
        "dia_28_11_\n",
        "\n",
        "° Os nomes são case sensitive:\n",
        "\n",
        "Nome_Da_Variavel ≠ nome_da_variavel ≠ NOME_DA_VARIAVEL\n",
        "\n",
        "### <font color=red>Observações:\n",
        "- Existem algumas palavras reservadas da linguagem que não podem ser utilizadas como nomes de variável:\n",
        "\n",
        "| |Lista de palavras <br>reservadas em Python| |\n",
        "|:-------------:|:------------:|:-------------:|\n",
        "| and           | as           | not           | \n",
        "| assert        | finally      | or            | \n",
        "| break         | for          | pass          | \n",
        "| class         | from         | nonlocal      | \n",
        "| continue      | global       | raise         | \n",
        "| def           | if           | return        | \n",
        "| del           | import       | try           | \n",
        "| elif          | in           | while         | \n",
        "| else          | is           | with          | \n",
        "| except        | lambda       | yield         | \n",
        "| False         | True         | None          | \n",
        "\n"
      ],
      "metadata": {
        "id": "gN3gpIjIBV8V"
      }
    },
    {
      "cell_type": "markdown",
      "source": [
        "### Declaração de variáveis\n",
        "\n",
        "### Operadores de atribuição: $=$, $+=$, $-=$, $*=$, $/=$, $**=$, $\\%=$, $//=$"
      ],
      "metadata": {
        "id": "2T-72MHoEn9o"
      }
    },
    {
      "cell_type": "code",
      "source": [
        "ano_atual = 2022\n",
        "ano_fabricacao = 2003\n",
        "km_total = 44410.0"
      ],
      "metadata": {
        "id": "ENdpL3lCFG_l"
      },
      "execution_count": 57,
      "outputs": []
    },
    {
      "cell_type": "code",
      "source": [
        "ano_atual"
      ],
      "metadata": {
        "colab": {
          "base_uri": "https://localhost:8080/"
        },
        "id": "5CpcK-OZRU2B",
        "outputId": "abc48c0f-3983-474d-abb6-43f0a3ddfb5e"
      },
      "execution_count": 55,
      "outputs": [
        {
          "output_type": "execute_result",
          "data": {
            "text/plain": [
              "2022"
            ]
          },
          "metadata": {},
          "execution_count": 55
        }
      ]
    },
    {
      "cell_type": "code",
      "source": [
        "ano_fabricacao"
      ],
      "metadata": {
        "colab": {
          "base_uri": "https://localhost:8080/"
        },
        "id": "kHavAyaMS1xA",
        "outputId": "4e3a967d-9ce8-46c4-8a35-5e793e9d3241"
      },
      "execution_count": 58,
      "outputs": [
        {
          "output_type": "execute_result",
          "data": {
            "text/plain": [
              "2003"
            ]
          },
          "metadata": {},
          "execution_count": 58
        }
      ]
    },
    {
      "cell_type": "code",
      "source": [
        "km_total"
      ],
      "metadata": {
        "colab": {
          "base_uri": "https://localhost:8080/"
        },
        "id": "rLkYMhe1S1-Q",
        "outputId": "9066218b-af72-43b0-b07a-2d3e014a97b7"
      },
      "execution_count": 59,
      "outputs": [
        {
          "output_type": "execute_result",
          "data": {
            "text/plain": [
              "44410.0"
            ]
          },
          "metadata": {},
          "execution_count": 59
        }
      ]
    },
    {
      "cell_type": "markdown",
      "source": [
        "\n",
        "# $$km_{média} = \\frac {km_{total}}{(Ano_{atual} - Ano_{fabricação})}$$\n"
      ],
      "metadata": {
        "id": "8LGpX2IlEn6Z"
      }
    },
    {
      "cell_type": "markdown",
      "source": [
        "### Conclusão:\n",
        "```\n",
        "\"valor = valor + 1\" é equivalente a \"valor += 1\"\n",
        "```"
      ],
      "metadata": {
        "id": "DvWvL_UTE5ut"
      }
    },
    {
      "cell_type": "markdown",
      "source": [
        "### Declaração múltipla"
      ],
      "metadata": {
        "id": "MIHfeBWJE-YL"
      }
    },
    {
      "cell_type": "code",
      "source": [
        ""
      ],
      "metadata": {
        "id": "Ua-2aq-r_5Oz"
      },
      "execution_count": null,
      "outputs": []
    }
  ]
}