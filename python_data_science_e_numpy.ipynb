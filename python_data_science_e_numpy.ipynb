{
  "nbformat": 4,
  "nbformat_minor": 0,
  "metadata": {
    "colab": {
      "name": "python-data-science-e-numpy.ipynb",
      "provenance": [],
      "collapsed_sections": [],
      "authorship_tag": "ABX9TyO8CgH/8AoIXqeTheuO19f4",
      "include_colab_link": true
    },
    "kernelspec": {
      "name": "python3",
      "display_name": "Python 3"
    },
    "language_info": {
      "name": "python"
    }
  },
  "cells": [
    {
      "cell_type": "markdown",
      "metadata": {
        "id": "view-in-github",
        "colab_type": "text"
      },
      "source": [
        "<a href=\"https://colab.research.google.com/github/gabrielcn/Data-Science/blob/main/python_data_science_e_numpy.ipynb\" target=\"_parent\"><img src=\"https://colab.research.google.com/assets/colab-badge.svg\" alt=\"Open In Colab\"/></a>"
      ]
    },
    {
      "cell_type": "markdown",
      "source": [
        "**Verificando a versão do python**"
      ],
      "metadata": {
        "id": "rVPzgK0GS0is"
      }
    },
    {
      "cell_type": "code",
      "source": [
        "!python -V"
      ],
      "metadata": {
        "colab": {
          "base_uri": "https://localhost:8080/"
        },
        "id": "UTzoqgKGSvpR",
        "outputId": "acfff2da-2d6d-4ae2-d9c5-553ae8af12e1"
      },
      "execution_count": 1,
      "outputs": [
        {
          "output_type": "stream",
          "name": "stdout",
          "text": [
            "Python 3.7.13\n"
          ]
        }
      ]
    },
    {
      "cell_type": "markdown",
      "source": [
        "**1.3 Trabalhando com arrays numpy**"
      ],
      "metadata": {
        "id": "rtdNapqt2Gjh"
      }
    },
    {
      "cell_type": "code",
      "source": [
        "import numpy as np #Importar a biblioteca numpy"
      ],
      "metadata": {
        "id": "nXD6SSf6S9zS"
      },
      "execution_count": 2,
      "outputs": []
    },
    {
      "cell_type": "code",
      "source": [
        "km = np.loadtxt('carros-km.txt') #carrega o arquivo txt dentro de um array numpy"
      ],
      "metadata": {
        "id": "g1wV6xFp3Bew"
      },
      "execution_count": 3,
      "outputs": []
    },
    {
      "cell_type": "code",
      "source": [
        "km"
      ],
      "metadata": {
        "id": "SMNgyLCF4Jph",
        "colab": {
          "base_uri": "https://localhost:8080/"
        },
        "outputId": "8f5c4aba-cfd6-41c3-c1aa-7b5b3f6dc1cd"
      },
      "execution_count": 4,
      "outputs": [
        {
          "output_type": "execute_result",
          "data": {
            "text/plain": [
              "array([4.44100e+04, 5.71200e+03, 3.71230e+04, 0.00000e+00, 2.57570e+04,\n",
              "       1.07280e+04, 0.00000e+00, 7.75990e+04, 9.91970e+04, 3.79780e+04,\n",
              "       1.28590e+04, 8.05200e+03, 8.97730e+04, 0.00000e+00, 4.14570e+04,\n",
              "       1.15607e+05, 4.64490e+04, 0.00000e+00, 3.70860e+04, 1.51730e+04,\n",
              "       1.01193e+05, 0.00000e+00, 9.80790e+04, 1.02959e+05, 0.00000e+00,\n",
              "       0.00000e+00, 5.79500e+03, 0.00000e+00, 5.88480e+04, 9.43810e+04,\n",
              "       3.01630e+04, 5.33320e+04, 1.77200e+04, 3.38080e+04, 9.06840e+04,\n",
              "       4.39750e+04, 0.00000e+00, 0.00000e+00, 5.52600e+03, 0.00000e+00,\n",
              "       9.34150e+04, 4.07620e+04, 0.00000e+00, 8.63020e+04, 0.00000e+00,\n",
              "       9.75500e+03, 6.99450e+04, 2.39500e+03, 0.00000e+00, 8.03490e+04,\n",
              "       8.55540e+04, 5.04960e+04, 6.77160e+04, 9.39470e+04, 3.53450e+04,\n",
              "       8.10070e+04, 1.19513e+05, 0.00000e+00, 0.00000e+00, 0.00000e+00,\n",
              "       0.00000e+00, 0.00000e+00, 1.18895e+05, 4.85090e+04, 1.00912e+05,\n",
              "       9.56490e+04, 0.00000e+00, 9.04950e+04, 0.00000e+00, 2.91320e+04,\n",
              "       2.38020e+04, 8.49920e+04, 5.43950e+04, 2.67310e+04, 4.43290e+04,\n",
              "       1.18236e+05, 1.13808e+05, 6.10000e+02, 0.00000e+00, 0.00000e+00,\n",
              "       1.28870e+04, 7.96070e+04, 9.09240e+04, 4.27330e+04, 0.00000e+00,\n",
              "       0.00000e+00, 1.17714e+05, 1.13885e+05, 0.00000e+00, 3.05110e+04,\n",
              "       7.48670e+04, 1.19760e+05, 8.35600e+03, 6.42470e+04, 8.86610e+04,\n",
              "       4.53900e+03, 1.10116e+05, 3.32150e+04, 9.20010e+04, 0.00000e+00,\n",
              "       8.17080e+04, 7.06410e+04, 0.00000e+00, 9.12770e+04, 2.65440e+04,\n",
              "       5.25960e+04, 4.75030e+04, 8.90560e+04, 2.88340e+04, 1.10564e+05,\n",
              "       5.66380e+04, 1.73570e+04, 7.40150e+04, 1.51960e+04, 0.00000e+00,\n",
              "       1.08210e+04, 0.00000e+00, 0.00000e+00, 9.59500e+03, 9.90520e+04,\n",
              "       5.23890e+04, 1.19945e+05, 9.60050e+04, 3.16390e+04, 0.00000e+00,\n",
              "       8.01870e+04, 0.00000e+00, 5.82120e+04, 6.16720e+04, 3.20170e+04,\n",
              "       0.00000e+00, 5.69440e+04, 0.00000e+00, 8.65190e+04, 4.82100e+03,\n",
              "       1.01025e+05, 3.07050e+04, 0.00000e+00, 3.25550e+04, 1.03389e+05,\n",
              "       0.00000e+00, 5.52890e+04, 0.00000e+00, 0.00000e+00, 1.15930e+05,\n",
              "       6.64370e+04, 9.68000e+04, 1.42370e+04, 1.98960e+04, 1.13045e+05,\n",
              "       1.14942e+05, 3.17300e+03, 8.36110e+04, 2.53560e+04, 8.86340e+04,\n",
              "       2.31400e+03, 2.62700e+03, 5.20340e+04, 0.00000e+00, 0.00000e+00,\n",
              "       7.95770e+04, 1.08201e+05, 7.64530e+04, 5.76830e+04, 9.66100e+04,\n",
              "       1.09001e+05, 2.62120e+04, 4.59710e+04, 4.91820e+04, 4.99070e+04,\n",
              "       3.86200e+04, 6.09960e+04, 7.39140e+04, 1.07392e+05, 9.14600e+03,\n",
              "       0.00000e+00, 1.79240e+04, 0.00000e+00, 1.16949e+05, 2.04760e+04,\n",
              "       5.28040e+04, 8.84900e+03, 9.17240e+04, 3.20560e+04, 7.48860e+04,\n",
              "       0.00000e+00, 0.00000e+00, 5.21890e+04, 8.35590e+04, 0.00000e+00,\n",
              "       2.03280e+04, 0.00000e+00, 7.55770e+04, 3.36590e+04, 1.04341e+05,\n",
              "       2.55100e+04, 1.89650e+04, 8.71610e+04, 6.65200e+03, 5.57380e+04,\n",
              "       0.00000e+00, 0.00000e+00, 0.00000e+00, 6.43200e+04, 0.00000e+00,\n",
              "       6.86780e+04, 7.16970e+04, 0.00000e+00, 3.47830e+04, 3.37720e+04,\n",
              "       8.51270e+04, 1.36060e+04, 3.56470e+04, 9.51280e+04, 1.40460e+04,\n",
              "       4.11940e+04, 0.00000e+00, 9.61000e+04, 1.03900e+05, 4.38140e+04,\n",
              "       2.46380e+04, 0.00000e+00, 1.10966e+05, 1.59870e+04, 5.33690e+04,\n",
              "       1.00770e+04, 7.15440e+04, 1.07000e+02, 8.39400e+03, 4.14980e+04,\n",
              "       1.16002e+05, 1.00858e+05, 6.74750e+04, 8.49700e+03, 4.42000e+03,\n",
              "       0.00000e+00, 5.85370e+04, 0.00000e+00, 0.00000e+00, 1.12016e+05,\n",
              "       9.18400e+04, 1.12787e+05, 0.00000e+00, 0.00000e+00, 9.29300e+03,\n",
              "       0.00000e+00, 5.50830e+04, 4.87960e+04, 0.00000e+00, 8.96850e+04,\n",
              "       8.53840e+04, 9.81080e+04, 7.12800e+04, 2.75050e+04, 2.99810e+04,\n",
              "       5.26370e+04, 7.68500e+03, 5.01880e+04])"
            ]
          },
          "metadata": {},
          "execution_count": 4
        }
      ]
    },
    {
      "cell_type": "code",
      "source": [
        "anos = np.loadtxt('carros-anos.txt', dtype = int) #carrega o arquivo txt dentro de um array numpy e o dtype = int define que a variável \"anos\" é do tipo inteiro"
      ],
      "metadata": {
        "id": "SfBxxdL34ZFQ"
      },
      "execution_count": 5,
      "outputs": []
    },
    {
      "cell_type": "code",
      "source": [
        "anos"
      ],
      "metadata": {
        "id": "YrOcP_T44gsx",
        "colab": {
          "base_uri": "https://localhost:8080/"
        },
        "outputId": "b71095c7-1e7e-4193-fd6b-947d576cd965"
      },
      "execution_count": 6,
      "outputs": [
        {
          "output_type": "execute_result",
          "data": {
            "text/plain": [
              "array([2003, 1991, 1990, 2019, 2006, 2012, 2019, 2009, 2010, 2011, 2002,\n",
              "       2007, 2001, 2019, 2009, 2016, 2012, 2019, 2016, 2017, 2002, 2019,\n",
              "       1994, 1991, 2019, 2019, 2016, 2019, 2002, 1991, 1997, 1995, 2018,\n",
              "       1991, 2014, 1995, 2019, 2019, 2009, 2019, 2013, 2003, 2019, 2002,\n",
              "       2019, 2002, 2004, 2001, 2019, 2003, 2009, 2006, 2000, 2006, 2010,\n",
              "       1994, 2007, 2019, 2019, 2019, 2019, 2019, 2017, 2011, 2001, 1996,\n",
              "       2019, 1994, 2019, 2007, 1994, 2007, 1997, 2006, 2013, 1994, 2008,\n",
              "       2008, 2019, 2019, 1999, 2007, 1993, 1995, 2019, 2019, 2016, 2011,\n",
              "       2019, 2002, 2013, 2017, 2016, 2008, 2018, 2003, 2003, 2004, 2010,\n",
              "       2019, 2006, 2001, 2019, 2015, 2018, 2017, 1992, 2001, 1993, 1995,\n",
              "       2003, 2014, 2008, 2013, 2019, 2017, 2019, 2019, 2006, 2015, 2007,\n",
              "       2005, 2017, 1998, 2019, 1999, 2019, 2009, 2003, 1994, 2019, 1994,\n",
              "       2019, 2015, 1996, 1997, 1993, 2019, 1992, 1995, 2019, 1990, 2019,\n",
              "       2019, 1991, 1990, 2012, 2007, 2013, 2000, 2002, 1996, 1996, 2015,\n",
              "       1993, 2013, 2013, 2009, 2019, 2019, 2002, 1997, 1998, 2004, 1996,\n",
              "       2015, 2016, 2005, 1999, 1995, 1993, 2004, 2013, 1998, 2018, 2019,\n",
              "       2018, 2019, 1990, 2009, 1990, 2006, 2002, 1991, 1992, 2019, 2019,\n",
              "       2005, 2010, 2019, 2016, 2019, 2010, 1994, 2001, 2014, 1996, 1993,\n",
              "       1993, 2001, 2019, 2019, 2019, 2007, 2019, 2016, 2014, 2019, 2015,\n",
              "       2015, 1996, 2002, 2005, 1995, 1999, 2005, 2019, 1997, 1990, 2001,\n",
              "       2013, 2019, 2017, 2011, 2005, 2007, 1993, 1991, 1991, 1997, 2000,\n",
              "       2007, 2006, 2015, 2008, 2019, 1996, 2019, 2019, 2014, 2004, 2008,\n",
              "       2019, 2019, 2012, 2019, 1996, 2011, 2019, 2010, 2007, 1994, 2007,\n",
              "       2014, 1991, 2002, 1996, 1992])"
            ]
          },
          "metadata": {},
          "execution_count": 6
        }
      ]
    },
    {
      "cell_type": "markdown",
      "source": [
        "**Obtendo a quilometragem média por ano**"
      ],
      "metadata": {
        "id": "9mvoP7Fg5Bjp"
      }
    },
    {
      "cell_type": "code",
      "source": [
        "km_media = km / (2022 - anos)"
      ],
      "metadata": {
        "id": "euCg8CHy40qF"
      },
      "execution_count": 7,
      "outputs": []
    },
    {
      "cell_type": "code",
      "source": [
        "km_media"
      ],
      "metadata": {
        "id": "KDnKaYcD5ZhS",
        "colab": {
          "base_uri": "https://localhost:8080/"
        },
        "outputId": "81ddc1d3-f508-4008-e9e4-9a841d9b09bd"
      },
      "execution_count": 8,
      "outputs": [
        {
          "output_type": "execute_result",
          "data": {
            "text/plain": [
              "array([2.33736842e+03, 1.84258065e+02, 1.16009375e+03, 0.00000000e+00,\n",
              "       1.60981250e+03, 1.07280000e+03, 0.00000000e+00, 5.96915385e+03,\n",
              "       8.26641667e+03, 3.45254545e+03, 6.42950000e+02, 5.36800000e+02,\n",
              "       4.27490476e+03, 0.00000000e+00, 3.18900000e+03, 1.92678333e+04,\n",
              "       4.64490000e+03, 0.00000000e+00, 6.18100000e+03, 3.03460000e+03,\n",
              "       5.05965000e+03, 0.00000000e+00, 3.50282143e+03, 3.32125806e+03,\n",
              "       0.00000000e+00, 0.00000000e+00, 9.65833333e+02, 0.00000000e+00,\n",
              "       2.94240000e+03, 3.04454839e+03, 1.20652000e+03, 1.97525926e+03,\n",
              "       4.43000000e+03, 1.09058065e+03, 1.13355000e+04, 1.62870370e+03,\n",
              "       0.00000000e+00, 0.00000000e+00, 4.25076923e+02, 0.00000000e+00,\n",
              "       1.03794444e+04, 2.14536842e+03, 0.00000000e+00, 4.31510000e+03,\n",
              "       0.00000000e+00, 4.87750000e+02, 3.88583333e+03, 1.14047619e+02,\n",
              "       0.00000000e+00, 4.22889474e+03, 6.58107692e+03, 3.15600000e+03,\n",
              "       3.07800000e+03, 5.87168750e+03, 2.94541667e+03, 2.89310714e+03,\n",
              "       7.96753333e+03, 0.00000000e+00, 0.00000000e+00, 0.00000000e+00,\n",
              "       0.00000000e+00, 0.00000000e+00, 2.37790000e+04, 4.40990909e+03,\n",
              "       4.80533333e+03, 3.67880769e+03, 0.00000000e+00, 3.23196429e+03,\n",
              "       0.00000000e+00, 1.94213333e+03, 8.50071429e+02, 5.66613333e+03,\n",
              "       2.17580000e+03, 1.67068750e+03, 4.92544444e+03, 4.22271429e+03,\n",
              "       8.12914286e+03, 4.35714286e+01, 0.00000000e+00, 0.00000000e+00,\n",
              "       5.60304348e+02, 5.30713333e+03, 3.13531034e+03, 1.58270370e+03,\n",
              "       0.00000000e+00, 0.00000000e+00, 1.96190000e+04, 1.03531818e+04,\n",
              "       0.00000000e+00, 1.52555000e+03, 8.31855556e+03, 2.39520000e+04,\n",
              "       1.39266667e+03, 4.58907143e+03, 2.21652500e+04, 2.38894737e+02,\n",
              "       5.79557895e+03, 1.84527778e+03, 7.66675000e+03, 0.00000000e+00,\n",
              "       5.10675000e+03, 3.36385714e+03, 0.00000000e+00, 1.30395714e+04,\n",
              "       6.63600000e+03, 1.05192000e+04, 1.58343333e+03, 4.24076190e+03,\n",
              "       9.94275862e+02, 4.09496296e+03, 2.98094737e+03, 2.16962500e+03,\n",
              "       5.28678571e+03, 1.68844444e+03, 0.00000000e+00, 2.16420000e+03,\n",
              "       0.00000000e+00, 0.00000000e+00, 5.99687500e+02, 1.41502857e+04,\n",
              "       3.49260000e+03, 7.05558824e+03, 1.92010000e+04, 1.31829167e+03,\n",
              "       0.00000000e+00, 3.48639130e+03, 0.00000000e+00, 4.47784615e+03,\n",
              "       3.24589474e+03, 1.14346429e+03, 0.00000000e+00, 2.03371429e+03,\n",
              "       0.00000000e+00, 1.23598571e+04, 1.85423077e+02, 4.04100000e+03,\n",
              "       1.05879310e+03, 0.00000000e+00, 1.08516667e+03, 3.82922222e+03,\n",
              "       0.00000000e+00, 1.72778125e+03, 0.00000000e+00, 0.00000000e+00,\n",
              "       3.73967742e+03, 2.07615625e+03, 9.68000000e+03, 9.49133333e+02,\n",
              "       2.21066667e+03, 5.13840909e+03, 5.74710000e+03, 1.22038462e+02,\n",
              "       3.21580769e+03, 3.62228571e+03, 3.05634483e+03, 2.57111111e+02,\n",
              "       2.91888889e+02, 4.00261538e+03, 0.00000000e+00, 0.00000000e+00,\n",
              "       3.97885000e+03, 4.32804000e+03, 3.18554167e+03, 3.20461111e+03,\n",
              "       3.71576923e+03, 1.55715714e+04, 4.36866667e+03, 2.70417647e+03,\n",
              "       2.13834783e+03, 1.84840741e+03, 1.33172414e+03, 3.38866667e+03,\n",
              "       8.21266667e+03, 4.47466667e+03, 2.28650000e+03, 0.00000000e+00,\n",
              "       4.48100000e+03, 0.00000000e+00, 3.65465625e+03, 1.57507692e+03,\n",
              "       1.65012500e+03, 5.53062500e+02, 4.58620000e+03, 1.03406452e+03,\n",
              "       2.49620000e+03, 0.00000000e+00, 0.00000000e+00, 3.06994118e+03,\n",
              "       6.96325000e+03, 0.00000000e+00, 3.38800000e+03, 0.00000000e+00,\n",
              "       6.29808333e+03, 1.20210714e+03, 4.96861905e+03, 3.18875000e+03,\n",
              "       7.29423077e+02, 3.00555172e+03, 2.29379310e+02, 2.65419048e+03,\n",
              "       0.00000000e+00, 0.00000000e+00, 0.00000000e+00, 4.28800000e+03,\n",
              "       0.00000000e+00, 1.14463333e+04, 8.96212500e+03, 0.00000000e+00,\n",
              "       4.96900000e+03, 4.82457143e+03, 3.27411538e+03, 6.80300000e+02,\n",
              "       2.09688235e+03, 3.52325926e+03, 6.10695652e+02, 2.42317647e+03,\n",
              "       0.00000000e+00, 3.84400000e+03, 3.24687500e+03, 2.08638095e+03,\n",
              "       2.73755556e+03, 0.00000000e+00, 2.21932000e+04, 1.45336364e+03,\n",
              "       3.13935294e+03, 6.71800000e+02, 2.46703448e+03, 3.45161290e+00,\n",
              "       2.70774194e+02, 1.65992000e+03, 5.27281818e+03, 6.72386667e+03,\n",
              "       4.21718750e+03, 1.21385714e+03, 3.15714286e+02, 0.00000000e+00,\n",
              "       2.25142308e+03, 0.00000000e+00, 0.00000000e+00, 1.40020000e+04,\n",
              "       5.10222222e+03, 8.05621429e+03, 0.00000000e+00, 0.00000000e+00,\n",
              "       9.29300000e+02, 0.00000000e+00, 2.11857692e+03, 4.43600000e+03,\n",
              "       0.00000000e+00, 7.47375000e+03, 5.69226667e+03, 3.50385714e+03,\n",
              "       4.75200000e+03, 3.43812500e+03, 9.67129032e+02, 2.63185000e+03,\n",
              "       2.95576923e+02, 1.67293333e+03])"
            ]
          },
          "metadata": {},
          "execution_count": 8
        }
      ]
    },
    {
      "cell_type": "code",
      "source": [
        "type(km_media) #Verifica o tipo da variável, no caso a variável é do tipo numpy.ndarray"
      ],
      "metadata": {
        "colab": {
          "base_uri": "https://localhost:8080/"
        },
        "id": "LoSwncB85lNY",
        "outputId": "671129a8-4132-45eb-8930-d8768557e00c"
      },
      "execution_count": 9,
      "outputs": [
        {
          "output_type": "execute_result",
          "data": {
            "text/plain": [
              "numpy.ndarray"
            ]
          },
          "metadata": {},
          "execution_count": 9
        }
      ]
    },
    {
      "cell_type": "markdown",
      "source": [
        "**2. CARACTERÍSICAS BÁSICAS DA LINGUAGEM**"
      ],
      "metadata": {
        "id": "BNs3ADS56l9E"
      }
    },
    {
      "cell_type": "markdown",
      "source": [
        "**2.1 Operações matemáticas**\n",
        "    \n",
        "    Operadores aritméticos: +, -, *, /, **, %, //"
      ],
      "metadata": {
        "id": "bT7Lgt9b6zHY"
      }
    },
    {
      "cell_type": "markdown",
      "source": [
        "**Adição (+)**"
      ],
      "metadata": {
        "id": "QUy5KuFL7M3y"
      }
    },
    {
      "cell_type": "code",
      "source": [
        "2 + 2"
      ],
      "metadata": {
        "colab": {
          "base_uri": "https://localhost:8080/"
        },
        "id": "kRHOVMru54rl",
        "outputId": "4424d0dd-991f-430d-fafe-7bf536b236d2"
      },
      "execution_count": 10,
      "outputs": [
        {
          "output_type": "execute_result",
          "data": {
            "text/plain": [
              "4"
            ]
          },
          "metadata": {},
          "execution_count": 10
        }
      ]
    },
    {
      "cell_type": "markdown",
      "source": [
        "**Subtração (-)**"
      ],
      "metadata": {
        "id": "HVv6pHsJ8Rto"
      }
    },
    {
      "cell_type": "code",
      "source": [
        "2 - 2"
      ],
      "metadata": {
        "colab": {
          "base_uri": "https://localhost:8080/"
        },
        "id": "fBecsdxh8Epo",
        "outputId": "8e1c7ed9-8ded-4bf6-d12f-d48f4024c79a"
      },
      "execution_count": 11,
      "outputs": [
        {
          "output_type": "execute_result",
          "data": {
            "text/plain": [
              "0"
            ]
          },
          "metadata": {},
          "execution_count": 11
        }
      ]
    },
    {
      "cell_type": "markdown",
      "source": [
        "**Multiplicação (*)**"
      ],
      "metadata": {
        "id": "iKtdDKo58cja"
      }
    },
    {
      "cell_type": "code",
      "source": [
        "2 * 2"
      ],
      "metadata": {
        "colab": {
          "base_uri": "https://localhost:8080/"
        },
        "id": "cUDQniGj8jE4",
        "outputId": "6709768a-72ad-4b9e-d8eb-eff2a18a4a27"
      },
      "execution_count": 12,
      "outputs": [
        {
          "output_type": "execute_result",
          "data": {
            "text/plain": [
              "4"
            ]
          },
          "metadata": {},
          "execution_count": 12
        }
      ]
    },
    {
      "cell_type": "markdown",
      "source": [
        "**Divisão (/) e (//)**\n",
        "\n",
        "A operação divisão sempre retorna um número de ponto flutuante"
      ],
      "metadata": {
        "id": "b91ANW4281hK"
      }
    },
    {
      "cell_type": "code",
      "source": [
        "10 / 3"
      ],
      "metadata": {
        "colab": {
          "base_uri": "https://localhost:8080/"
        },
        "id": "w-VuZpAQ8kQA",
        "outputId": "e1f68dd8-6287-4299-9f2c-a9ee6e664dbf"
      },
      "execution_count": 13,
      "outputs": [
        {
          "output_type": "execute_result",
          "data": {
            "text/plain": [
              "3.3333333333333335"
            ]
          },
          "metadata": {},
          "execution_count": 13
        }
      ]
    },
    {
      "cell_type": "code",
      "source": [
        "10 // 3 #Retorna somente a parte inteira da divisão"
      ],
      "metadata": {
        "colab": {
          "base_uri": "https://localhost:8080/"
        },
        "id": "fx06xtaq9Ghk",
        "outputId": "12a1072f-46c0-443d-c860-24c5a3d37c5b"
      },
      "execution_count": 14,
      "outputs": [
        {
          "output_type": "execute_result",
          "data": {
            "text/plain": [
              "3"
            ]
          },
          "metadata": {},
          "execution_count": 14
        }
      ]
    },
    {
      "cell_type": "markdown",
      "source": [
        "**Exponenciação (****)"
      ],
      "metadata": {
        "id": "2xRgFl8W9UYL"
      }
    },
    {
      "cell_type": "code",
      "source": [
        "2 ** 3"
      ],
      "metadata": {
        "colab": {
          "base_uri": "https://localhost:8080/"
        },
        "id": "O-tx5n7v9Jwp",
        "outputId": "d0243bf5-fd64-4664-cc05-7c6f24350a2d"
      },
      "execution_count": 15,
      "outputs": [
        {
          "output_type": "execute_result",
          "data": {
            "text/plain": [
              "8"
            ]
          },
          "metadata": {},
          "execution_count": 15
        }
      ]
    },
    {
      "cell_type": "markdown",
      "source": [
        "**Resto da divisão (%)**"
      ],
      "metadata": {
        "id": "Uu1kXc3D9tu4"
      }
    },
    {
      "cell_type": "code",
      "source": [
        "10 % 3"
      ],
      "metadata": {
        "colab": {
          "base_uri": "https://localhost:8080/"
        },
        "id": "OvdM6mc89oHw",
        "outputId": "aaeb741e-584d-48cc-ee6a-79b37a8c3f9f"
      },
      "execution_count": 16,
      "outputs": [
        {
          "output_type": "execute_result",
          "data": {
            "text/plain": [
              "1"
            ]
          },
          "metadata": {},
          "execution_count": 16
        }
      ]
    },
    {
      "cell_type": "markdown",
      "source": [
        "**Expressões matemáticas**"
      ],
      "metadata": {
        "id": "aVI-h25p-Hvl"
      }
    },
    {
      "cell_type": "code",
      "source": [
        "5 * 2 + 3 * 2"
      ],
      "metadata": {
        "colab": {
          "base_uri": "https://localhost:8080/"
        },
        "id": "gdRJwI3D-M55",
        "outputId": "f21f91c7-cb11-49e0-81e7-53d9fc9dc73b"
      },
      "execution_count": 17,
      "outputs": [
        {
          "output_type": "execute_result",
          "data": {
            "text/plain": [
              "16"
            ]
          },
          "metadata": {},
          "execution_count": 17
        }
      ]
    },
    {
      "cell_type": "code",
      "source": [
        "(5 * 2) + (3 * 2)"
      ],
      "metadata": {
        "colab": {
          "base_uri": "https://localhost:8080/"
        },
        "id": "QhzVN0DI-O83",
        "outputId": "b31632e3-c6cc-4808-bb02-380d2412fdc8"
      },
      "execution_count": 18,
      "outputs": [
        {
          "output_type": "execute_result",
          "data": {
            "text/plain": [
              "16"
            ]
          },
          "metadata": {},
          "execution_count": 18
        }
      ]
    },
    {
      "cell_type": "code",
      "source": [
        "5 * (2 + 3) * 2"
      ],
      "metadata": {
        "colab": {
          "base_uri": "https://localhost:8080/"
        },
        "id": "CQ4TAQWU-bBP",
        "outputId": "e4116966-904c-4dea-b982-45acd3825a4c"
      },
      "execution_count": 19,
      "outputs": [
        {
          "output_type": "execute_result",
          "data": {
            "text/plain": [
              "50"
            ]
          },
          "metadata": {},
          "execution_count": 19
        }
      ]
    },
    {
      "cell_type": "markdown",
      "source": [
        "**A variável**\n",
        "\n",
        "No modo interativo, o último resultado impresso é atribuído a variável _"
      ],
      "metadata": {
        "id": "b0ZCLzOz-uYi"
      }
    },
    {
      "cell_type": "code",
      "source": [
        "5 * 2"
      ],
      "metadata": {
        "colab": {
          "base_uri": "https://localhost:8080/"
        },
        "id": "WieY_B2J-gfY",
        "outputId": "d3a3a044-8d12-48e8-d639-332c943694cd"
      },
      "execution_count": 20,
      "outputs": [
        {
          "output_type": "execute_result",
          "data": {
            "text/plain": [
              "10"
            ]
          },
          "metadata": {},
          "execution_count": 20
        }
      ]
    },
    {
      "cell_type": "code",
      "source": [
        "_ + 3 * 2"
      ],
      "metadata": {
        "colab": {
          "base_uri": "https://localhost:8080/"
        },
        "id": "n1hqUiNR_LSZ",
        "outputId": "e0bebdcb-7cc4-44af-9096-02054b53f415"
      },
      "execution_count": 21,
      "outputs": [
        {
          "output_type": "execute_result",
          "data": {
            "text/plain": [
              "16"
            ]
          },
          "metadata": {},
          "execution_count": 21
        }
      ]
    },
    {
      "cell_type": "code",
      "source": [
        "_ / 2"
      ],
      "metadata": {
        "colab": {
          "base_uri": "https://localhost:8080/"
        },
        "id": "X_zbKPWh_Wo1",
        "outputId": "2b0a1ecd-6297-4a3b-bea6-9f2b8614876b"
      },
      "execution_count": 22,
      "outputs": [
        {
          "output_type": "execute_result",
          "data": {
            "text/plain": [
              "8.0"
            ]
          },
          "metadata": {},
          "execution_count": 22
        }
      ]
    },
    {
      "cell_type": "markdown",
      "source": [
        "**2.2 Variáveis**"
      ],
      "metadata": {
        "id": "lWIXPnlhA7zH"
      }
    },
    {
      "cell_type": "markdown",
      "source": [
        "**Nomes de variáveis**"
      ],
      "metadata": {
        "id": "nbP13pOfBHvs"
      }
    },
    {
      "cell_type": "markdown",
      "source": [
        ""
      ],
      "metadata": {
        "id": "5kq95GYNEk0S"
      }
    },
    {
      "cell_type": "markdown",
      "source": [
        "° Nomes de varáveis podem começar com letras (a - z, A - Z) ou o caractere underscore (_):\n",
        "\n",
        "Altura\n",
        "\n",
        "_peso\n",
        "\n",
        "° O restante de nome pode conter letras, números e o caractere \"_\":\n",
        "\n",
        "nome_da_variavel\n",
        "\n",
        "_valor\n",
        "\n",
        "dia_28_11_\n",
        "\n",
        "° Os nomes são case sensitive:\n",
        "\n",
        "Nome_Da_Variavel ≠ nome_da_variavel ≠ NOME_DA_VARIAVEL\n",
        "\n",
        "### <font color=red>Observações:\n",
        "- Existem algumas palavras reservadas da linguagem que não podem ser utilizadas como nomes de variável:\n",
        "\n",
        "| |Lista de palavras <br>reservadas em Python| |\n",
        "|:-------------:|:------------:|:-------------:|\n",
        "| and           | as           | not           | \n",
        "| assert        | finally      | or            | \n",
        "| break         | for          | pass          | \n",
        "| class         | from         | nonlocal      | \n",
        "| continue      | global       | raise         | \n",
        "| def           | if           | return        | \n",
        "| del           | import       | try           | \n",
        "| elif          | in           | while         | \n",
        "| else          | is           | with          | \n",
        "| except        | lambda       | yield         | \n",
        "| False         | True         | None          | \n",
        "\n"
      ],
      "metadata": {
        "id": "gN3gpIjIBV8V"
      }
    },
    {
      "cell_type": "markdown",
      "source": [
        "### Declaração de variáveis\n",
        "\n",
        "### Operadores de atribuição: $=$, $+=$, $-=$, $*=$, $/=$, $**=$, $\\%=$, $//=$"
      ],
      "metadata": {
        "id": "2T-72MHoEn9o"
      }
    },
    {
      "cell_type": "code",
      "source": [
        "ano_atual = 2022\n",
        "ano_fabricacao = 2003\n",
        "km_total = 44410.0"
      ],
      "metadata": {
        "id": "ENdpL3lCFG_l"
      },
      "execution_count": 23,
      "outputs": []
    },
    {
      "cell_type": "code",
      "source": [
        "ano_atual"
      ],
      "metadata": {
        "colab": {
          "base_uri": "https://localhost:8080/"
        },
        "id": "5CpcK-OZRU2B",
        "outputId": "f5ce0512-52e9-4053-b863-46c35f4d009f"
      },
      "execution_count": 24,
      "outputs": [
        {
          "output_type": "execute_result",
          "data": {
            "text/plain": [
              "2022"
            ]
          },
          "metadata": {},
          "execution_count": 24
        }
      ]
    },
    {
      "cell_type": "code",
      "source": [
        "ano_fabricacao"
      ],
      "metadata": {
        "colab": {
          "base_uri": "https://localhost:8080/"
        },
        "id": "kHavAyaMS1xA",
        "outputId": "c4fe443c-0e33-4932-8335-d00a05dfa829"
      },
      "execution_count": 25,
      "outputs": [
        {
          "output_type": "execute_result",
          "data": {
            "text/plain": [
              "2003"
            ]
          },
          "metadata": {},
          "execution_count": 25
        }
      ]
    },
    {
      "cell_type": "code",
      "source": [
        "km_total"
      ],
      "metadata": {
        "colab": {
          "base_uri": "https://localhost:8080/"
        },
        "id": "rLkYMhe1S1-Q",
        "outputId": "aafeb0bf-c327-4c21-c80b-f62de350c485"
      },
      "execution_count": 26,
      "outputs": [
        {
          "output_type": "execute_result",
          "data": {
            "text/plain": [
              "44410.0"
            ]
          },
          "metadata": {},
          "execution_count": 26
        }
      ]
    },
    {
      "cell_type": "markdown",
      "source": [
        "**Operações com variáveis**\n",
        "\n",
        "```\n",
        "# Isto está formatado como código\n",
        "```\n",
        "\n"
      ],
      "metadata": {
        "id": "9OF2nuveWdix"
      }
    },
    {
      "cell_type": "markdown",
      "source": [
        "\n",
        "# $$km_{média} = \\frac {km_{total}}{(Ano_{atual} - Ano_{fabricação})}$$\n"
      ],
      "metadata": {
        "id": "8LGpX2IlEn6Z"
      }
    },
    {
      "cell_type": "code",
      "source": [
        "ano_atual = 2022\n",
        "ano_fabricacao = 2003\n",
        "km_total = 44410.0\n",
        "km_media = km_total / (ano_atual - ano_fabricacao)\n",
        "km_media"
      ],
      "metadata": {
        "colab": {
          "base_uri": "https://localhost:8080/"
        },
        "id": "Tg4D_S8uYP1o",
        "outputId": "e5ef63ff-789d-4217-c9a0-6ece47f7698f"
      },
      "execution_count": 27,
      "outputs": [
        {
          "output_type": "execute_result",
          "data": {
            "text/plain": [
              "2337.3684210526317"
            ]
          },
          "metadata": {},
          "execution_count": 27
        }
      ]
    },
    {
      "cell_type": "code",
      "source": [
        "ano_atual = 2022\n",
        "ano_fabricacao = 2003\n",
        "km_total = 44410.0\n",
        "km_media = km_total / (ano_atual - ano_fabricacao)\n",
        "\n",
        "km_total = km_total + km_media\n",
        "km_total"
      ],
      "metadata": {
        "colab": {
          "base_uri": "https://localhost:8080/"
        },
        "id": "B-Gyfh5RWpUq",
        "outputId": "2d904c38-69c4-469f-cb45-ef85903c8e10"
      },
      "execution_count": 28,
      "outputs": [
        {
          "output_type": "execute_result",
          "data": {
            "text/plain": [
              "46747.36842105263"
            ]
          },
          "metadata": {},
          "execution_count": 28
        }
      ]
    },
    {
      "cell_type": "markdown",
      "source": [
        "### Conclusão:\n",
        "```\n",
        "\"valor = valor + 1\" é equivalente a \"valor += 1\"\n",
        "```"
      ],
      "metadata": {
        "id": "DvWvL_UTE5ut"
      }
    },
    {
      "cell_type": "markdown",
      "source": [
        "### Declaração múltipla"
      ],
      "metadata": {
        "id": "MIHfeBWJE-YL"
      }
    },
    {
      "cell_type": "code",
      "source": [
        "ano_atual, ano_fabricacao, km_total = 2022, 2003, 44410.0"
      ],
      "metadata": {
        "id": "Ua-2aq-r_5Oz"
      },
      "execution_count": 29,
      "outputs": []
    },
    {
      "cell_type": "code",
      "source": [
        "ano_atual"
      ],
      "metadata": {
        "colab": {
          "base_uri": "https://localhost:8080/"
        },
        "id": "meQwwvPLa1tr",
        "outputId": "c91a809d-5121-4cb8-fafc-9de0e17f82ad"
      },
      "execution_count": 30,
      "outputs": [
        {
          "output_type": "execute_result",
          "data": {
            "text/plain": [
              "2022"
            ]
          },
          "metadata": {},
          "execution_count": 30
        }
      ]
    },
    {
      "cell_type": "code",
      "source": [
        "ano_fabricacao"
      ],
      "metadata": {
        "colab": {
          "base_uri": "https://localhost:8080/"
        },
        "id": "ZukXoPgga6Yn",
        "outputId": "98511b8f-b9dc-4636-a763-31bfae074c3f"
      },
      "execution_count": 31,
      "outputs": [
        {
          "output_type": "execute_result",
          "data": {
            "text/plain": [
              "2003"
            ]
          },
          "metadata": {},
          "execution_count": 31
        }
      ]
    },
    {
      "cell_type": "code",
      "source": [
        "km_total"
      ],
      "metadata": {
        "colab": {
          "base_uri": "https://localhost:8080/"
        },
        "id": "6lXa1NBOa9AT",
        "outputId": "f07673c8-a07c-4f90-c85f-df49ed4ab634"
      },
      "execution_count": 32,
      "outputs": [
        {
          "output_type": "execute_result",
          "data": {
            "text/plain": [
              "44410.0"
            ]
          },
          "metadata": {},
          "execution_count": 32
        }
      ]
    },
    {
      "cell_type": "code",
      "source": [
        "ano_atual, ano_fabricacao, km_total = 2022, 2003, 44410.0\n",
        "km_media = km_total / (ano_atual - ano_fabricacao)\n",
        "km_media"
      ],
      "metadata": {
        "colab": {
          "base_uri": "https://localhost:8080/"
        },
        "id": "XbymCuwPa_Ib",
        "outputId": "d16327ea-4dc1-4846-e18e-8738e9331f83"
      },
      "execution_count": 33,
      "outputs": [
        {
          "output_type": "execute_result",
          "data": {
            "text/plain": [
              "2337.3684210526317"
            ]
          },
          "metadata": {},
          "execution_count": 33
        }
      ]
    },
    {
      "cell_type": "markdown",
      "source": [
        "**2.3 Tipos de dados**\n",
        "\n",
        "Os tipos de dados especificam como números e caracteres serão armazenados e manipulados dentro de um programa. Os tipos de dados básicos do Python são:\n",
        "\n",
        "1. **Números**\n",
        "\n",
        "    1. **int** - inteiros\n",
        "        \n",
        "      **float** - Ponto flutuante\n",
        "\n",
        "  **° Booleanos** - Assume os valores True ou False. Essencial quando comerçarmos a trabalhar com declarações condicionais\n",
        "\n",
        "\n",
        "  **° Strings** - Sequencia de um ou mais caracteres que pode inclui letras, números e outros tipos de caracteres. Representa um texto.\n",
        "\n",
        "\n",
        "  **° None** - Representa a ausencia de valor\n",
        "\n"
      ],
      "metadata": {
        "id": "YrOGfmgQB8_b"
      }
    },
    {
      "cell_type": "markdown",
      "source": [
        "**Números**"
      ],
      "metadata": {
        "id": "YhQUQihtOFtr"
      }
    },
    {
      "cell_type": "code",
      "source": [
        "ano_atual = 2022"
      ],
      "metadata": {
        "id": "27BuJ-KJbKUa"
      },
      "execution_count": 38,
      "outputs": []
    },
    {
      "cell_type": "code",
      "source": [
        "type(ano_atual) #função type, que passamos como argumento a variável e ele retorna que tipo de variável é"
      ],
      "metadata": {
        "colab": {
          "base_uri": "https://localhost:8080/"
        },
        "id": "4-azu53_OYHr",
        "outputId": "42f967cb-4b9b-45cb-d2e7-be957d23d248"
      },
      "execution_count": 39,
      "outputs": [
        {
          "output_type": "execute_result",
          "data": {
            "text/plain": [
              "int"
            ]
          },
          "metadata": {},
          "execution_count": 39
        }
      ]
    },
    {
      "cell_type": "code",
      "source": [
        "km_total = 44410.0"
      ],
      "metadata": {
        "id": "wu3CRO6KO2IQ"
      },
      "execution_count": 40,
      "outputs": []
    },
    {
      "cell_type": "code",
      "source": [
        "type(km_total)"
      ],
      "metadata": {
        "colab": {
          "base_uri": "https://localhost:8080/"
        },
        "id": "y8YSZISKO9mF",
        "outputId": "2fb480bb-420c-4ae2-fccd-8814451cc288"
      },
      "execution_count": 42,
      "outputs": [
        {
          "output_type": "execute_result",
          "data": {
            "text/plain": [
              "float"
            ]
          },
          "metadata": {},
          "execution_count": 42
        }
      ]
    },
    {
      "cell_type": "markdown",
      "source": [
        "**Booleanos**"
      ],
      "metadata": {
        "id": "kLoc6x3gPDVP"
      }
    },
    {
      "cell_type": "code",
      "source": [
        "zero_km = True"
      ],
      "metadata": {
        "id": "4FjeX3P6PAgh"
      },
      "execution_count": 43,
      "outputs": []
    },
    {
      "cell_type": "code",
      "source": [
        "type(zero_km)"
      ],
      "metadata": {
        "colab": {
          "base_uri": "https://localhost:8080/"
        },
        "id": "VY4w3uJNPK2D",
        "outputId": "c844d74b-8326-4bf9-d785-d77e1bc74b5a"
      },
      "execution_count": 44,
      "outputs": [
        {
          "output_type": "execute_result",
          "data": {
            "text/plain": [
              "bool"
            ]
          },
          "metadata": {},
          "execution_count": 44
        }
      ]
    },
    {
      "cell_type": "code",
      "source": [
        "zero_km = False"
      ],
      "metadata": {
        "id": "M9ZNFo2NPOBd"
      },
      "execution_count": 45,
      "outputs": []
    },
    {
      "cell_type": "code",
      "source": [
        "type(zero_km)"
      ],
      "metadata": {
        "colab": {
          "base_uri": "https://localhost:8080/"
        },
        "id": "yAmavOVHPVtx",
        "outputId": "f137bb7e-2cf4-45e4-bddb-002aea19983d"
      },
      "execution_count": 46,
      "outputs": [
        {
          "output_type": "execute_result",
          "data": {
            "text/plain": [
              "bool"
            ]
          },
          "metadata": {},
          "execution_count": 46
        }
      ]
    },
    {
      "cell_type": "markdown",
      "source": [
        "**Strings**"
      ],
      "metadata": {
        "id": "-HmB6psMPfXW"
      }
    },
    {
      "cell_type": "code",
      "source": [
        "nome = 'Jetta Variant'\n",
        "nome"
      ],
      "metadata": {
        "colab": {
          "base_uri": "https://localhost:8080/",
          "height": 35
        },
        "id": "IGZ2IvY7PW1h",
        "outputId": "ff9800ca-15b6-4aa0-cc0b-ea0a23281b7d"
      },
      "execution_count": 50,
      "outputs": [
        {
          "output_type": "execute_result",
          "data": {
            "text/plain": [
              "'Jetta Variant'"
            ],
            "application/vnd.google.colaboratory.intrinsic+json": {
              "type": "string"
            }
          },
          "metadata": {},
          "execution_count": 50
        }
      ]
    },
    {
      "cell_type": "code",
      "source": [
        "nome = \"Jetta Variant\"\n",
        "nome"
      ],
      "metadata": {
        "colab": {
          "base_uri": "https://localhost:8080/",
          "height": 35
        },
        "id": "oeBcN9sePmXp",
        "outputId": "96bff296-cd01-4f20-c3f9-b656f1e8bd35"
      },
      "execution_count": 51,
      "outputs": [
        {
          "output_type": "execute_result",
          "data": {
            "text/plain": [
              "'Jetta Variant'"
            ],
            "application/vnd.google.colaboratory.intrinsic+json": {
              "type": "string"
            }
          },
          "metadata": {},
          "execution_count": 51
        }
      ]
    },
    {
      "cell_type": "code",
      "source": [
        "nome = 'Jetta \"Variant\"'\n",
        "nome"
      ],
      "metadata": {
        "colab": {
          "base_uri": "https://localhost:8080/",
          "height": 35
        },
        "id": "DWuGRIQwPoOR",
        "outputId": "569f0810-6277-46c8-af85-e4571bd457ec"
      },
      "execution_count": 52,
      "outputs": [
        {
          "output_type": "execute_result",
          "data": {
            "text/plain": [
              "'Jetta \"Variant\"'"
            ],
            "application/vnd.google.colaboratory.intrinsic+json": {
              "type": "string"
            }
          },
          "metadata": {},
          "execution_count": 52
        }
      ]
    },
    {
      "cell_type": "code",
      "source": [
        "nome = \"Jetta 'Variant'\"\n",
        "nome"
      ],
      "metadata": {
        "colab": {
          "base_uri": "https://localhost:8080/",
          "height": 35
        },
        "id": "ulwR2n1nP6qa",
        "outputId": "ee77ecec-e145-4fdf-b8d5-641209bc1dc2"
      },
      "execution_count": 53,
      "outputs": [
        {
          "output_type": "execute_result",
          "data": {
            "text/plain": [
              "\"Jetta 'Variant'\""
            ],
            "application/vnd.google.colaboratory.intrinsic+json": {
              "type": "string"
            }
          },
          "metadata": {},
          "execution_count": 53
        }
      ]
    },
    {
      "cell_type": "code",
      "source": [
        "carro = '''\n",
        "Nome\n",
        "Idade\n",
        "Nota\n",
        "'''"
      ],
      "metadata": {
        "id": "XUr1VUozQD-S"
      },
      "execution_count": 54,
      "outputs": []
    },
    {
      "cell_type": "code",
      "source": [
        "carro"
      ],
      "metadata": {
        "colab": {
          "base_uri": "https://localhost:8080/",
          "height": 35
        },
        "id": "wBcEWUZmQcAW",
        "outputId": "39f11f77-9d17-409c-b8c6-de1ac27be6b1"
      },
      "execution_count": 56,
      "outputs": [
        {
          "output_type": "execute_result",
          "data": {
            "text/plain": [
              "'\\nNome\\nIdade\\nNota\\n'"
            ],
            "application/vnd.google.colaboratory.intrinsic+json": {
              "type": "string"
            }
          },
          "metadata": {},
          "execution_count": 56
        }
      ]
    },
    {
      "cell_type": "code",
      "source": [
        "type(carro)"
      ],
      "metadata": {
        "colab": {
          "base_uri": "https://localhost:8080/"
        },
        "id": "51syPSUqQdia",
        "outputId": "097119a3-8912-4060-e9e5-dcd99b34aa20"
      },
      "execution_count": 57,
      "outputs": [
        {
          "output_type": "execute_result",
          "data": {
            "text/plain": [
              "str"
            ]
          },
          "metadata": {},
          "execution_count": 57
        }
      ]
    },
    {
      "cell_type": "markdown",
      "source": [
        "**None**"
      ],
      "metadata": {
        "id": "BqkGiAedQjxs"
      }
    },
    {
      "cell_type": "code",
      "source": [
        "quilometragem = None\n",
        "quilometragem"
      ],
      "metadata": {
        "id": "wN5r63yyQidh"
      },
      "execution_count": 58,
      "outputs": []
    },
    {
      "cell_type": "code",
      "source": [
        "type(quilometragem)"
      ],
      "metadata": {
        "colab": {
          "base_uri": "https://localhost:8080/"
        },
        "id": "kGdzq-Q9QuKL",
        "outputId": "28d58990-8e5d-4f1d-e447-a5077bb3c42a"
      },
      "execution_count": 59,
      "outputs": [
        {
          "output_type": "execute_result",
          "data": {
            "text/plain": [
              "NoneType"
            ]
          },
          "metadata": {},
          "execution_count": 59
        }
      ]
    },
    {
      "cell_type": "markdown",
      "source": [
        "**2.4 Conversão de tipos**"
      ],
      "metadata": {
        "id": "L9QFOMJZR9sC"
      }
    },
    {
      "cell_type": "code",
      "source": [
        "a = 10\n",
        "b = 20\n",
        "c = 'Python é '\n",
        "d = 'legal'"
      ],
      "metadata": {
        "id": "zQRnrpDYSC_f"
      },
      "execution_count": 60,
      "outputs": []
    },
    {
      "cell_type": "code",
      "source": [
        "type(a)"
      ],
      "metadata": {
        "colab": {
          "base_uri": "https://localhost:8080/"
        },
        "id": "BdJ56-auSMn0",
        "outputId": "c805a122-67e6-4aa3-f948-6e8b58dc9daa"
      },
      "execution_count": 61,
      "outputs": [
        {
          "output_type": "execute_result",
          "data": {
            "text/plain": [
              "int"
            ]
          },
          "metadata": {},
          "execution_count": 61
        }
      ]
    },
    {
      "cell_type": "code",
      "source": [
        "type(b)"
      ],
      "metadata": {
        "colab": {
          "base_uri": "https://localhost:8080/"
        },
        "id": "66-bg8EtSO9z",
        "outputId": "43d68580-f608-4275-c995-dad4a49fe310"
      },
      "execution_count": 62,
      "outputs": [
        {
          "output_type": "execute_result",
          "data": {
            "text/plain": [
              "int"
            ]
          },
          "metadata": {},
          "execution_count": 62
        }
      ]
    },
    {
      "cell_type": "code",
      "source": [
        "type(c)"
      ],
      "metadata": {
        "colab": {
          "base_uri": "https://localhost:8080/"
        },
        "id": "Jsety6e_SQZT",
        "outputId": "7aa8fdfc-3fb8-44f5-926e-fa9e5e613236"
      },
      "execution_count": 63,
      "outputs": [
        {
          "output_type": "execute_result",
          "data": {
            "text/plain": [
              "str"
            ]
          },
          "metadata": {},
          "execution_count": 63
        }
      ]
    },
    {
      "cell_type": "code",
      "source": [
        "type(d)"
      ],
      "metadata": {
        "colab": {
          "base_uri": "https://localhost:8080/"
        },
        "id": "1HIV79pSSSmb",
        "outputId": "d5808bab-30b4-4dae-e52e-cc4915cfeac3"
      },
      "execution_count": 64,
      "outputs": [
        {
          "output_type": "execute_result",
          "data": {
            "text/plain": [
              "str"
            ]
          },
          "metadata": {},
          "execution_count": 64
        }
      ]
    },
    {
      "cell_type": "code",
      "source": [
        "c+d"
      ],
      "metadata": {
        "colab": {
          "base_uri": "https://localhost:8080/",
          "height": 35
        },
        "id": "aoJXg1HkSUkW",
        "outputId": "68a84bf2-eeca-47e6-93af-009f260fb954"
      },
      "execution_count": 65,
      "outputs": [
        {
          "output_type": "execute_result",
          "data": {
            "text/plain": [
              "'Python é legal'"
            ],
            "application/vnd.google.colaboratory.intrinsic+json": {
              "type": "string"
            }
          },
          "metadata": {},
          "execution_count": 65
        }
      ]
    },
    {
      "cell_type": "code",
      "source": [
        "#c + a "
      ],
      "metadata": {
        "colab": {
          "base_uri": "https://localhost:8080/",
          "height": 166
        },
        "id": "dp_WjZ3uSXU_",
        "outputId": "4253a8fc-f75c-4663-dd6f-61ef32fca60a"
      },
      "execution_count": 66,
      "outputs": [
        {
          "output_type": "error",
          "ename": "TypeError",
          "evalue": "ignored",
          "traceback": [
            "\u001b[0;31m---------------------------------------------------------------------------\u001b[0m",
            "\u001b[0;31mTypeError\u001b[0m                                 Traceback (most recent call last)",
            "\u001b[0;32m<ipython-input-66-72f9c903e6a0>\u001b[0m in \u001b[0;36m<module>\u001b[0;34m()\u001b[0m\n\u001b[0;32m----> 1\u001b[0;31m \u001b[0mc\u001b[0m \u001b[0;34m+\u001b[0m \u001b[0ma\u001b[0m\u001b[0;34m\u001b[0m\u001b[0;34m\u001b[0m\u001b[0m\n\u001b[0m",
            "\u001b[0;31mTypeError\u001b[0m: can only concatenate str (not \"int\") to str"
          ]
        }
      ]
    },
    {
      "cell_type": "markdown",
      "source": [
        "**Conversões de tipo**\n",
        "\n",
        "Funções int(), float(), str()"
      ],
      "metadata": {
        "id": "8nlvxsgGTzR1"
      }
    },
    {
      "cell_type": "code",
      "source": [
        "str(a) #Transforma uma variável que não é do tipo str em uma string"
      ],
      "metadata": {
        "colab": {
          "base_uri": "https://localhost:8080/",
          "height": 35
        },
        "id": "WWZhe4D9TsPs",
        "outputId": "ac404a0e-af1e-42ec-e1a0-ba93f7bdc064"
      },
      "execution_count": 73,
      "outputs": [
        {
          "output_type": "execute_result",
          "data": {
            "text/plain": [
              "'10'"
            ],
            "application/vnd.google.colaboratory.intrinsic+json": {
              "type": "string"
            }
          },
          "metadata": {},
          "execution_count": 73
        }
      ]
    },
    {
      "cell_type": "code",
      "source": [
        "type(str(a))"
      ],
      "metadata": {
        "colab": {
          "base_uri": "https://localhost:8080/"
        },
        "id": "9q7LRPg1WF4V",
        "outputId": "0d40175b-139a-4166-988b-9a0bac3abe91"
      },
      "execution_count": 74,
      "outputs": [
        {
          "output_type": "execute_result",
          "data": {
            "text/plain": [
              "str"
            ]
          },
          "metadata": {},
          "execution_count": 74
        }
      ]
    },
    {
      "cell_type": "code",
      "source": [
        "c + str(a)"
      ],
      "metadata": {
        "colab": {
          "base_uri": "https://localhost:8080/",
          "height": 35
        },
        "id": "hJ_V1ScMWHZv",
        "outputId": "80afa348-205b-44d0-9646-14cb6795949e"
      },
      "execution_count": 75,
      "outputs": [
        {
          "output_type": "execute_result",
          "data": {
            "text/plain": [
              "'Python é 10'"
            ],
            "application/vnd.google.colaboratory.intrinsic+json": {
              "type": "string"
            }
          },
          "metadata": {},
          "execution_count": 75
        }
      ]
    },
    {
      "cell_type": "code",
      "source": [
        "float(a)"
      ],
      "metadata": {
        "colab": {
          "base_uri": "https://localhost:8080/"
        },
        "id": "048LRSMlWjMI",
        "outputId": "42ed189e-b21a-4fde-c0c9-22b24c6ddc8d"
      },
      "execution_count": 76,
      "outputs": [
        {
          "output_type": "execute_result",
          "data": {
            "text/plain": [
              "10.0"
            ]
          },
          "metadata": {},
          "execution_count": 76
        }
      ]
    },
    {
      "cell_type": "code",
      "source": [
        "type(float(a))"
      ],
      "metadata": {
        "colab": {
          "base_uri": "https://localhost:8080/"
        },
        "id": "5yGRc8PKWxNd",
        "outputId": "8bb5e893-3f22-4dd7-99e9-46a69e15fe3c"
      },
      "execution_count": 77,
      "outputs": [
        {
          "output_type": "execute_result",
          "data": {
            "text/plain": [
              "float"
            ]
          },
          "metadata": {},
          "execution_count": 77
        }
      ]
    },
    {
      "cell_type": "code",
      "source": [
        "var = 3.141592"
      ],
      "metadata": {
        "id": "E7XAOL6vW1Rd"
      },
      "execution_count": 78,
      "outputs": []
    },
    {
      "cell_type": "code",
      "source": [
        "type(var)"
      ],
      "metadata": {
        "colab": {
          "base_uri": "https://localhost:8080/"
        },
        "id": "7W6-xcq9W7iB",
        "outputId": "7bf0e608-4838-46a8-fe6b-0132c4e9b6b4"
      },
      "execution_count": 79,
      "outputs": [
        {
          "output_type": "execute_result",
          "data": {
            "text/plain": [
              "float"
            ]
          },
          "metadata": {},
          "execution_count": 79
        }
      ]
    },
    {
      "cell_type": "code",
      "source": [
        "int(var)"
      ],
      "metadata": {
        "colab": {
          "base_uri": "https://localhost:8080/"
        },
        "id": "zEQI7GtNW8yF",
        "outputId": "b09cc7af-12c4-486d-a49c-378b41fe2c6f"
      },
      "execution_count": 80,
      "outputs": [
        {
          "output_type": "execute_result",
          "data": {
            "text/plain": [
              "3"
            ]
          },
          "metadata": {},
          "execution_count": 80
        }
      ]
    },
    {
      "cell_type": "code",
      "source": [
        "var = 3.99"
      ],
      "metadata": {
        "id": "RkXIfc6cXClh"
      },
      "execution_count": 81,
      "outputs": []
    },
    {
      "cell_type": "code",
      "source": [
        "int(var)"
      ],
      "metadata": {
        "colab": {
          "base_uri": "https://localhost:8080/"
        },
        "id": "aBp2srrDXMEF",
        "outputId": "4726359c-adf3-4a6d-cc17-7134e478254c"
      },
      "execution_count": 82,
      "outputs": [
        {
          "output_type": "execute_result",
          "data": {
            "text/plain": [
              "3"
            ]
          },
          "metadata": {},
          "execution_count": 82
        }
      ]
    },
    {
      "cell_type": "markdown",
      "source": [
        "**Concatenando strings**"
      ],
      "metadata": {
        "id": "vhoG_WfmXjJI"
      }
    },
    {
      "cell_type": "code",
      "source": [
        "text = 'A quilometragem média do veículo é '\n",
        "Km = 100000\n",
        "Ano_atual = 2019\n",
        "Ano_fabricacao = 1999"
      ],
      "metadata": {
        "id": "EQ36cP2gXNcf"
      },
      "execution_count": 83,
      "outputs": []
    },
    {
      "cell_type": "code",
      "source": [
        "text + str( int( Km / (Ano_atual - Ano_fabricacao) ) ) + ' km' # foram realizadas duas conversões. Na primeira, o resultado da operação (float) é convertido em um inteiro (int) e depois, o dado do tipo inteiro é convertido em uma string (str)."
      ],
      "metadata": {
        "colab": {
          "base_uri": "https://localhost:8080/",
          "height": 35
        },
        "id": "e44b1Ad2YRmu",
        "outputId": "102a7117-78d6-4b84-aa01-5ec8b2d4fe38"
      },
      "execution_count": 87,
      "outputs": [
        {
          "output_type": "execute_result",
          "data": {
            "text/plain": [
              "'A quilometragem média do veículo é 5000 km'"
            ],
            "application/vnd.google.colaboratory.intrinsic+json": {
              "type": "string"
            }
          },
          "metadata": {},
          "execution_count": 87
        }
      ]
    },
    {
      "cell_type": "markdown",
      "source": [
        "**2.5 Indentação, comentários e formatação de strings**\n"
      ],
      "metadata": {
        "id": "mnIR5ANoZTX-"
      }
    },
    {
      "cell_type": "markdown",
      "source": [
        "**Indentação**\n",
        "\n",
        "Na linguagem Python os programas são estrturados por meio de indentação. Em qualquer linguagem de programação a prática da indentação é bastante útil, facilitando a leitura e também a manutenção do código. Em Python a indentação não é somente uma questão de organização e estilo, mas sim um requisito da linguagem."
      ],
      "metadata": {
        "id": "DLl35YWyZhsS"
      }
    },
    {
      "cell_type": "code",
      "source": [
        "ano_atual = 2022\n",
        "ano_fabricacao = 2022\n",
        "\n",
        "if (ano_atual == ano_fabricacao):\n",
        "  print('Verdadeiro')\n",
        "else:\n",
        "  print('Falso')"
      ],
      "metadata": {
        "colab": {
          "base_uri": "https://localhost:8080/"
        },
        "id": "f3nevWkWYSMN",
        "outputId": "29286b4f-ff8c-46e6-8efb-38e13d7ea184"
      },
      "execution_count": 88,
      "outputs": [
        {
          "output_type": "stream",
          "name": "stdout",
          "text": [
            "Verdadeiro\n"
          ]
        }
      ]
    },
    {
      "cell_type": "code",
      "source": [
        "# Atalho para comentar Ctrl + ;"
      ],
      "metadata": {
        "id": "rgiHm8cbmAiv"
      },
      "execution_count": 89,
      "outputs": []
    },
    {
      "cell_type": "markdown",
      "source": [
        "**Formatação de strings**"
      ],
      "metadata": {
        "id": "y-FpJF-QnEVH"
      }
    },
    {
      "cell_type": "markdown",
      "source": [
        "**str.format()**"
      ],
      "metadata": {
        "id": "nAD9o0DWnJFg"
      }
    },
    {
      "cell_type": "code",
      "source": [
        "print('Olá, {}!'.format('Gabriel')) #Na chave entra o parametro que está sendo passado para o .format, que no caso é 'Gabriel', substitui {} pelo o que tem no .format"
      ],
      "metadata": {
        "colab": {
          "base_uri": "https://localhost:8080/"
        },
        "id": "heai1ronm2EF",
        "outputId": "18622cc0-d370-4441-d092-a8923e7d3efc"
      },
      "execution_count": 91,
      "outputs": [
        {
          "output_type": "stream",
          "name": "stdout",
          "text": [
            "Olá, Gabriel!\n"
          ]
        }
      ]
    },
    {
      "cell_type": "code",
      "source": [
        "print('Olá, {}! Este é seu acesso de número {}'.format('Gabriel', 21))"
      ],
      "metadata": {
        "colab": {
          "base_uri": "https://localhost:8080/"
        },
        "id": "hKH1GhB6nqrp",
        "outputId": "a3120f63-7a54-4493-c0bd-b826b80c2483"
      },
      "execution_count": 92,
      "outputs": [
        {
          "output_type": "stream",
          "name": "stdout",
          "text": [
            "Olá, Gabriel! Este é seu acesso de número 21\n"
          ]
        }
      ]
    },
    {
      "cell_type": "code",
      "source": [
        "print('Olá, {nome}! Este é seu acesso de número {acessos}'.format(nome = 'Gabriel', acessos = 47))"
      ],
      "metadata": {
        "colab": {
          "base_uri": "https://localhost:8080/"
        },
        "id": "z7AK9IkzoPEu",
        "outputId": "09091b2f-f7c5-4cbc-c46c-8d47f3f85ac3"
      },
      "execution_count": 94,
      "outputs": [
        {
          "output_type": "stream",
          "name": "stdout",
          "text": [
            "Olá, Gabriel! Este é seu acesso de número 47\n"
          ]
        }
      ]
    },
    {
      "cell_type": "markdown",
      "source": [
        "**f-Strings**"
      ],
      "metadata": {
        "id": "qHQXNfa9otaH"
      }
    },
    {
      "cell_type": "code",
      "source": [
        "nome = 'Gabriel'\n",
        "acessos = 47"
      ],
      "metadata": {
        "id": "ha29IS4uo4Os"
      },
      "execution_count": 95,
      "outputs": []
    },
    {
      "cell_type": "code",
      "source": [
        "print(f'Olá, {nome}! Este é seu acesso de número {acessos}') #Usando o f-Strings, basta só colocar o f na frente"
      ],
      "metadata": {
        "colab": {
          "base_uri": "https://localhost:8080/"
        },
        "id": "t4vYR-tVo723",
        "outputId": "2b9a0416-5710-41bb-df90-4bfd269a392c"
      },
      "execution_count": 98,
      "outputs": [
        {
          "output_type": "stream",
          "name": "stdout",
          "text": [
            "Olá, Gabriel! Este é seu acesso de número 47\n"
          ]
        }
      ]
    },
    {
      "cell_type": "code",
      "source": [
        ""
      ],
      "metadata": {
        "id": "gewbjFRqpCmg"
      },
      "execution_count": null,
      "outputs": []
    }
  ]
}